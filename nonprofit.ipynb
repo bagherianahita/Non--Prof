{
  "nbformat": 4,
  "nbformat_minor": 0,
  "metadata": {
    "colab": {
      "provenance": []
    },
    "kernelspec": {
      "name": "python3",
      "display_name": "Python 3"
    },
    "language_info": {
      "name": "python"
    }
  },
  "cells": [
    {
      "cell_type": "code",
      "execution_count": null,
      "metadata": {
        "id": "XSLR0cuKwp7S"
      },
      "outputs": [],
      "source": [
        "from flask import Flask, request, jsonify\n",
        "from flask_cors import CORS\n",
        "import spacy\n",
        "\n",
        "#   spaCy model\n",
        "def load_spacy_model():\n",
        "    try:\n",
        "        return spacy.load(\"en_core_web_sm\")\n",
        "    except OSError:\n",
        "        from spacy.cli import download\n",
        "        download(\"en_core_web_sm\")\n",
        "        return spacy.load(\"en_core_web_sm\")\n",
        "\n",
        "nlp = load_spacy_model()\n",
        "\n",
        "app = Flask(__name__)\n",
        "CORS(app)\n",
        "\n",
        "# Dummy data (later replace with PostgreSQL)\n",
        "NONPROFIT_OPPORTUNITIES = [\n",
        "    {\"id\": 1, \"title\": \"Beach Cleanup Crew Leader\", \"description\": \"Lead a team of volunteers for coastal cleanups. Requires strong organizational and communication skills. Interest in environmental conservation is a plus.\", \"organization\": \"Conservation Corps NL\"},\n",
        "    {\"id\": 2, \"title\": \"Social Media Coordinator\", \"description\": \"Help manage our social media channels to raise awareness about youth mental health. Experience with platforms like Instagram and TikTok is needed.\", \"organization\": \"Choices for Youth\"},\n",
        "    {\"id\": 3, \"title\": \"Kitchen Helper for Soup Kitchen\", \"description\": \"Assist with food preparation and serving at our community kitchen. A basic level of cooking skills is helpful.\", \"organization\": \"Stella's Circle\"}\n",
        "]\n",
        "\n",
        "@app.route('/api/match', methods=['POST'])\n",
        "def match_opportunities():\n",
        "    try:\n",
        "        data = request.json\n",
        "        volunteer_skills = data.get('skills', '').strip()\n",
        "        volunteer_interests = data.get('interests', '').strip()\n",
        "\n",
        "        if not volunteer_skills and not volunteer_interests:\n",
        "            return jsonify({\"error\": \"Please provide skills or interests\"}), 400\n",
        "\n",
        "        volunteer_text = nlp(volunteer_skills + \" \" + volunteer_interests)\n",
        "\n",
        "        matches = []\n",
        "        for opp in NONPROFIT_OPPORTUNITIES:\n",
        "            opp_doc = nlp(opp['description'])\n",
        "            similarity = volunteer_text.similarity(opp_doc)\n",
        "            matches.append({\n",
        "                \"opportunity\": opp,\n",
        "                \"relevance_score\": round(similarity, 2)\n",
        "            })\n",
        "\n",
        "        sorted_matches = sorted(matches, key=lambda x: x['relevance_score'], reverse=True)\n",
        "        return jsonify(sorted_matches)\n",
        "\n",
        "    except Exception as e:\n",
        "        return jsonify({\"error\": str(e)}), 500\n",
        "\n",
        "if __name__ == '__main__':\n",
        "    app.run(debug=True)\n"
      ]
    }
  ]
}